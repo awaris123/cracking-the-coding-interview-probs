{
 "cells": [
  {
   "cell_type": "code",
   "execution_count": null,
   "metadata": {},
   "outputs": [],
   "source": [
    "# idea 1:\n",
    "# Create a hashtable to keep a record of values\n",
    "# if we encounter a dup then we delete\n",
    "# ...how do we delete\n",
    "# the node prior should point to the current node's next\n",
    "\n",
    "# When 'iterating' through the linked list, \"check ahead for dups\", if dup then delete"
   ]
  },
  {
   "cell_type": "code",
   "execution_count": 3,
   "metadata": {},
   "outputs": [],
   "source": [
    "class Node(object):\n",
    "    def __init__(self, val=None, next=None):\n",
    "        self.val = val\n",
    "        self.next = next\n",
    "        "
   ]
  },
  {
   "cell_type": "code",
   "execution_count": 13,
   "metadata": {},
   "outputs": [],
   "source": [
    "def rmDups(head):\n",
    "    log = {}\n",
    "    log[head.val] = True\n",
    "    \n",
    "    node = head\n",
    "    while node:\n",
    "        ahead = node.next\n",
    "        if ahead:\n",
    "            if ahead.val in log:\n",
    "                # delete ahead node\n",
    "                node.next = ahead.next\n",
    "            else:\n",
    "                # add next node's value into the ht                 \n",
    "                log[ahead.val] = True\n",
    "         \n",
    "        node = node.next\n",
    "    return head\n"
   ]
  },
  {
   "cell_type": "code",
   "execution_count": 18,
   "metadata": {},
   "outputs": [
    {
     "name": "stdout",
     "output_type": "stream",
     "text": [
      "7\n",
      "6\n",
      "5\n",
      "9\n",
      "4\n"
     ]
    }
   ],
   "source": [
    "g = Node(4)\n",
    "f = Node(6, g)\n",
    "e = Node(9, f)\n",
    "d = Node(7, e)\n",
    "c = Node(5, d)\n",
    "b = Node(6, c)\n",
    "a = Node(7, b)\n",
    "\n",
    "head = rmDups(a)\n",
    "\n",
    "node = head\n",
    "while node:\n",
    "    print(node.val)\n",
    "    node = node.next"
   ]
  },
  {
   "cell_type": "code",
   "execution_count": null,
   "metadata": {},
   "outputs": [],
   "source": []
  }
 ],
 "metadata": {
  "kernelspec": {
   "display_name": "Python 3",
   "language": "python",
   "name": "python3"
  },
  "language_info": {
   "codemirror_mode": {
    "name": "ipython",
    "version": 3
   },
   "file_extension": ".py",
   "mimetype": "text/x-python",
   "name": "python",
   "nbconvert_exporter": "python",
   "pygments_lexer": "ipython3",
   "version": "3.6.8"
  }
 },
 "nbformat": 4,
 "nbformat_minor": 2
}
