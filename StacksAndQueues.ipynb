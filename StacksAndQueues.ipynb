{
 "cells": [
  {
   "cell_type": "code",
   "execution_count": 11,
   "metadata": {},
   "outputs": [],
   "source": [
    "class Stack(object):\n",
    "    def __init__(self):\n",
    "        self.data = []\n",
    "        self.lo = None\n",
    "        \n",
    "    def push(self, n):\n",
    "        self.data.append(n)\n",
    "        if not self.lo or n < self.lo:\n",
    "            self.lo = n\n",
    "            \n",
    "    def pop(self):\n",
    "        return self.data.pop()\n",
    "    \n",
    "    def min(self):\n",
    "        return self.lo"
   ]
  },
  {
   "cell_type": "code",
   "execution_count": 12,
   "metadata": {},
   "outputs": [
    {
     "data": {
      "text/plain": [
       "-9999"
      ]
     },
     "execution_count": 12,
     "metadata": {},
     "output_type": "execute_result"
    }
   ],
   "source": [
    "stk = Stack()\n",
    "\n",
    "lst = [(-1 * i) for i in range(-100, 10000)]\n",
    "for i in lst:\n",
    "    stk.push(i)\n",
    "    \n",
    "stk.min()\n"
   ]
  },
  {
   "cell_type": "code",
   "execution_count": null,
   "metadata": {},
   "outputs": [],
   "source": [
    "class MyQueue(object):\n",
    "    \n",
    "    def __init__(self):\n",
    "        s1 = Stack()\n",
    "        s2 = Stack()\n",
    "        # If true then 1 else 2         \n",
    "        poppingStk = True\n",
    "    \n",
    "    def que(n):\n",
    "        \n",
    "    "
   ]
  }
 ],
 "metadata": {
  "kernelspec": {
   "display_name": "Python 3",
   "language": "python",
   "name": "python3"
  },
  "language_info": {
   "codemirror_mode": {
    "name": "ipython",
    "version": 3
   },
   "file_extension": ".py",
   "mimetype": "text/x-python",
   "name": "python",
   "nbconvert_exporter": "python",
   "pygments_lexer": "ipython3",
   "version": "3.6.8"
  }
 },
 "nbformat": 4,
 "nbformat_minor": 2
}
