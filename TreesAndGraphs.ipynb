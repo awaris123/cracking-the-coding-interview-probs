{
 "cells": [
  {
   "cell_type": "code",
   "execution_count": 12,
   "metadata": {},
   "outputs": [],
   "source": [
    "class Node(object):\n",
    "    \n",
    "    def __init__(self, val, L=None, R=None):\n",
    "        self.val = val\n",
    "        self.left = L\n",
    "        self.right = R\n",
    "\n",
    "    \n",
    "def inOrder(node):\n",
    "    if node:\n",
    "        inOrder(node.left)\n",
    "        print(node.val)\n",
    "        inOrder(node.right)\n",
    "\n",
    "def preOrder(node):\n",
    "    if node:\n",
    "        print(node.val)\n",
    "        preOrder(node.left)\n",
    "        preOrder(node.right)\n",
    "        \n",
    "def postOrder(node):\n",
    "    if node:\n",
    "        postOrder(node.left)\n",
    "        postOrder(node.right)\n",
    "        print(node.val)\n"
   ]
  },
  {
   "cell_type": "code",
   "execution_count": 17,
   "metadata": {},
   "outputs": [],
   "source": [
    "\n",
    "n = Node(1)\n",
    "n1 = Node(2)\n",
    "n2 = Node(3)\n",
    "n1.left, n1.right = Node(4), Node(5)\n",
    "n2.left, n2.right = Node(6), Node(7)\n",
    "n.left, n.right = n1, n2"
   ]
  },
  {
   "cell_type": "code",
   "execution_count": 18,
   "metadata": {},
   "outputs": [
    {
     "name": "stdout",
     "output_type": "stream",
     "text": [
      "4\n",
      "2\n",
      "5\n",
      "1\n",
      "6\n",
      "3\n",
      "7\n"
     ]
    }
   ],
   "source": [
    "inOrder(n)"
   ]
  },
  {
   "cell_type": "code",
   "execution_count": 19,
   "metadata": {},
   "outputs": [
    {
     "name": "stdout",
     "output_type": "stream",
     "text": [
      "1\n",
      "2\n",
      "4\n",
      "5\n",
      "3\n",
      "6\n",
      "7\n"
     ]
    }
   ],
   "source": [
    "preOrder(n)"
   ]
  },
  {
   "cell_type": "code",
   "execution_count": 20,
   "metadata": {},
   "outputs": [
    {
     "name": "stdout",
     "output_type": "stream",
     "text": [
      "4\n",
      "5\n",
      "2\n",
      "6\n",
      "7\n",
      "3\n",
      "1\n"
     ]
    }
   ],
   "source": [
    "postOrder(n)"
   ]
  },
  {
   "cell_type": "code",
   "execution_count": 22,
   "metadata": {},
   "outputs": [],
   "source": [
    "def minTree(lst):\n",
    "    size = len(lst)\n",
    "    if size == 1:\n",
    "        return Node(lst[0])\n",
    "    \n",
    "    mid = lst[size // 2]\n",
    "    return Node(mid, L=minTree(lst[0:size//2]), R=minTree(lst[(size//2) + 1 : size]))\n",
    "    \n",
    "    \n"
   ]
  },
  {
   "cell_type": "code",
   "execution_count": 23,
   "metadata": {},
   "outputs": [],
   "source": [
    "t1 = minTree([1,2,3,4,5,6,7])"
   ]
  },
  {
   "cell_type": "code",
   "execution_count": 25,
   "metadata": {},
   "outputs": [
    {
     "name": "stdout",
     "output_type": "stream",
     "text": [
      "1\n",
      "2\n",
      "3\n",
      "4\n",
      "5\n",
      "6\n",
      "7\n"
     ]
    }
   ],
   "source": [
    "inOrder(t1)"
   ]
  },
  {
   "cell_type": "code",
   "execution_count": null,
   "metadata": {},
   "outputs": [],
   "source": []
  }
 ],
 "metadata": {
  "kernelspec": {
   "display_name": "Python 3",
   "language": "python",
   "name": "python3"
  },
  "language_info": {
   "codemirror_mode": {
    "name": "ipython",
    "version": 3
   },
   "file_extension": ".py",
   "mimetype": "text/x-python",
   "name": "python",
   "nbconvert_exporter": "python",
   "pygments_lexer": "ipython3",
   "version": "3.6.8"
  }
 },
 "nbformat": 4,
 "nbformat_minor": 2
}
