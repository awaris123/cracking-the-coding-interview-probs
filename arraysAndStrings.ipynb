{
 "cells": [
  {
   "cell_type": "code",
   "execution_count": 38,
   "metadata": {},
   "outputs": [],
   "source": [
    "\n",
    "# Given any string, determine if it is a permutation of a palindromic string\n",
    "# Ignore casing\n",
    "# palindromic string is not limited to dictionary words\n",
    "\n",
    "# lmnonml -> lmnonml, etc.\n",
    "# A palindromic string will have an even number of each unique character, with a maximum of 1 character\n",
    "# occuring an odd amount of times\n",
    "\n",
    "# idea 1:\n",
    "# Store all occurances of each unique character in a hashtable , and then check for appropriate conditions\n",
    "# mentioned above\n",
    "\n",
    "# idea 2:\n",
    "\n",
    "# As we are iterating through the hashtable, if we encounter new character or charcter with zero freq, \n",
    "# add it to the hashtable  \n",
    "# when we encounter a char that is already in the ht, then we can just subtract 1 from the value\n",
    "\n",
    "# idea 3\n",
    "# instead of adding and subtracting we add new characters with a value of True\n",
    "# When we encounter it an \"eventh\" time, just delete the key all together for the hashtable\n",
    "# all we have to do is return if the len(ht) < 2\n",
    "\n",
    "\n",
    "\n",
    "def isPerm (string):\n",
    "    ht = {}\n",
    "    string = string.lower()\n",
    "    threshold = 0\n",
    "    for c in string:\n",
    "        if c == \" \":\n",
    "            pass\n",
    "        \n",
    "        elif c in ht:\n",
    "            del ht[c]\n",
    "            threshold -= 1\n",
    "        else:\n",
    "            ht[c] = True\n",
    "            threshold += 1\n",
    "            \n",
    "    return threshold < 2\n"
   ]
  },
  {
   "cell_type": "code",
   "execution_count": 39,
   "metadata": {},
   "outputs": [
    {
     "name": "stdout",
     "output_type": "stream",
     "text": [
      "True\n",
      "False\n",
      "True\n",
      "True\n",
      "True\n"
     ]
    }
   ],
   "source": [
    "# default\n",
    "print(isPerm('Tact Coa'))\n",
    "\n",
    "\n",
    "# Even chars with 1 unique\n",
    "print(isPerm('AABA'))\n",
    "\n",
    "\n",
    "# Odd chars with no unique\n",
    "print(isPerm('AAA'))\n",
    "\n",
    "# Even chars with no uniqe\n",
    "print(isPerm('Ab  Ab  bc  c b'))\n",
    "\n",
    "\n",
    "# Odd chars with unique and spacing with mixed cases\n",
    "\n",
    "print(isPerm('ABC cba b B n'))"
   ]
  },
  {
   "cell_type": "code",
   "execution_count": null,
   "metadata": {},
   "outputs": [],
   "source": []
  }
 ],
 "metadata": {
  "kernelspec": {
   "display_name": "Python 3",
   "language": "python",
   "name": "python3"
  },
  "language_info": {
   "codemirror_mode": {
    "name": "ipython",
    "version": 3
   },
   "file_extension": ".py",
   "mimetype": "text/x-python",
   "name": "python",
   "nbconvert_exporter": "python",
   "pygments_lexer": "ipython3",
   "version": "3.6.8"
  }
 },
 "nbformat": 4,
 "nbformat_minor": 2
}
